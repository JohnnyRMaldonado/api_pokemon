{
  "nbformat": 4,
  "nbformat_minor": 0,
  "metadata": {
    "colab": {
      "provenance": [],
      "authorship_tag": "ABX9TyP0iK5yTBmcQ8rANJb9aX5U"
    },
    "kernelspec": {
      "name": "python3",
      "display_name": "Python 3"
    },
    "language_info": {
      "name": "python"
    }
  },
  "cells": [
    {
      "cell_type": "code",
      "execution_count": null,
      "metadata": {
        "colab": {
          "base_uri": "https://localhost:8080/"
        },
        "id": "FEW7aKjKOuB-",
        "outputId": "d159cf29-f27a-46a3-84c6-4362cd8cad4b"
      },
      "outputs": [
        {
          "output_type": "stream",
          "name": "stdout",
          "text": [
            "                          name                                       url  \\\n",
            "0                    bulbasaur      https://pokeapi.co/api/v2/pokemon/1/   \n",
            "1                      ivysaur      https://pokeapi.co/api/v2/pokemon/2/   \n",
            "2                     venusaur      https://pokeapi.co/api/v2/pokemon/3/   \n",
            "3                   charmander      https://pokeapi.co/api/v2/pokemon/4/   \n",
            "4                   charmeleon      https://pokeapi.co/api/v2/pokemon/5/   \n",
            "...                        ...                                       ...   \n",
            "1297   ogerpon-wellspring-mask  https://pokeapi.co/api/v2/pokemon/10273/   \n",
            "1298  ogerpon-hearthflame-mask  https://pokeapi.co/api/v2/pokemon/10274/   \n",
            "1299  ogerpon-cornerstone-mask  https://pokeapi.co/api/v2/pokemon/10275/   \n",
            "1300        terapagos-terastal  https://pokeapi.co/api/v2/pokemon/10276/   \n",
            "1301         terapagos-stellar  https://pokeapi.co/api/v2/pokemon/10277/   \n",
            "\n",
            "                  abilities  height  base_experience  \n",
            "0     overgrow, chlorophyll       7             64.0  \n",
            "1     overgrow, chlorophyll      10            142.0  \n",
            "2     overgrow, chlorophyll      20            263.0  \n",
            "3        blaze, solar-power       6             62.0  \n",
            "4        blaze, solar-power      11            142.0  \n",
            "...                     ...     ...              ...  \n",
            "1297           water-absorb      12              NaN  \n",
            "1298           mold-breaker      12              NaN  \n",
            "1299                 sturdy      12              NaN  \n",
            "1300             tera-shell       3              NaN  \n",
            "1301          teraform-zero      17              NaN  \n",
            "\n",
            "[1302 rows x 5 columns]\n"
          ]
        }
      ],
      "source": [
        "import requests\n",
        "import pandas as pd\n",
        "\n",
        "def fetch_all_pokemon(url):\n",
        "    all_results = []\n",
        "\n",
        "    while url:\n",
        "        # Hacer la solicitud a la API\n",
        "        response = requests.get(url)\n",
        "        data = response.json()  # Obtener los datos en formato JSON\n",
        "\n",
        "        # Extraer los datos relevantes\n",
        "        results = data['results']\n",
        "        all_results.extend(results)\n",
        "\n",
        "        # Obtener la URL de la siguiente página\n",
        "        url = data['next']  # La URL de la siguiente página de resultados\n",
        "\n",
        "    return all_results\n",
        "\n",
        "def fetch_pokemon_details(pokemon_url):\n",
        "    response = requests.get(pokemon_url)\n",
        "    data = response.json()  # Obtener los datos en formato JSON\n",
        "\n",
        "    # Extraer la información deseada\n",
        "    abilities = ', '.join([ability['ability']['name'] for ability in data['abilities']])\n",
        "    height = data['height']\n",
        "    base_experience = data['base_experience']\n",
        "\n",
        "    return abilities, height, base_experience\n",
        "\n",
        "def create_dataframe_from_results(results):\n",
        "    # Listas para almacenar los datos\n",
        "    names = []\n",
        "    urls = []\n",
        "    abilities_list = []\n",
        "    heights = []\n",
        "    base_experiences = []\n",
        "\n",
        "    # Iterar sobre los resultados para extraer la información adicional\n",
        "    for item in results:\n",
        "        name = item['name']\n",
        "        url = item['url']\n",
        "\n",
        "        # Obtener detalles adicionales del Pokémon\n",
        "        abilities, height, base_experience = fetch_pokemon_details(url)\n",
        "\n",
        "        # Almacenar los datos en las listas correspondientes\n",
        "        names.append(name)\n",
        "        urls.append(url)\n",
        "        abilities_list.append(abilities)\n",
        "        heights.append(height)\n",
        "        base_experiences.append(base_experience)\n",
        "\n",
        "    # Crear el DataFrame\n",
        "    df = pd.DataFrame({\n",
        "        'name': names,\n",
        "        'url': urls,\n",
        "        'abilities': abilities_list,\n",
        "        'height': heights,\n",
        "        'base_experience': base_experiences\n",
        "    })\n",
        "\n",
        "    return df\n",
        "\n",
        "# URL base de la API\n",
        "base_url = 'https://pokeapi.co/api/v2/pokemon/'\n",
        "\n",
        "# Obtener todos los resultados\n",
        "results = fetch_all_pokemon(base_url)\n",
        "\n",
        "# Crear el DataFrame\n",
        "df = create_dataframe_from_results(results)\n",
        "\n",
        "# Mostrar el DataFrame\n",
        "print(df)\n",
        "\n",
        "\n"
      ]
    },
    {
      "cell_type": "markdown",
      "source": [
        "# Sección nueva"
      ],
      "metadata": {
        "id": "CCduWnGsuPUK"
      }
    },
    {
      "cell_type": "code",
      "source": [
        "! git clone https://github.com/JohnnyRMaldonado/api_pokemon.git"
      ],
      "metadata": {
        "colab": {
          "base_uri": "https://localhost:8080/"
        },
        "id": "gvFii0sgvTBc",
        "outputId": "fd014b32-8365-4043-fdfb-ac5d44b1fcd8"
      },
      "execution_count": null,
      "outputs": [
        {
          "output_type": "stream",
          "name": "stdout",
          "text": [
            "Cloning into 'api_pokemon'...\n",
            "remote: Enumerating objects: 3, done.\u001b[K\n",
            "remote: Counting objects: 100% (3/3), done.\u001b[K\n",
            "remote: Total 3 (delta 0), reused 0 (delta 0), pack-reused 0 (from 0)\u001b[K\n",
            "Receiving objects: 100% (3/3), done.\n"
          ]
        }
      ]
    },
    {
      "cell_type": "code",
      "source": [
        "pwd"
      ],
      "metadata": {
        "colab": {
          "base_uri": "https://localhost:8080/",
          "height": 35
        },
        "id": "9AbO5_YNwJpd",
        "outputId": "90ef0ea9-f3cd-4c15-8c9c-c2e5b49e9b1c"
      },
      "execution_count": null,
      "outputs": [
        {
          "output_type": "execute_result",
          "data": {
            "text/plain": [
              "'/content'"
            ],
            "application/vnd.google.colaboratory.intrinsic+json": {
              "type": "string"
            }
          },
          "metadata": {},
          "execution_count": 2
        }
      ]
    }
  ]
}